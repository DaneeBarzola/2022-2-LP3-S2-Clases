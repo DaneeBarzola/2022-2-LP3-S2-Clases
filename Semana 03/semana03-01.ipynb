{
 "cells": [
  {
   "cell_type": "markdown",
   "id": "af548791",
   "metadata": {},
   "source": [
    "Semana 03\n",
    "Barzola Navarro"
   ]
  },
  {
   "cell_type": "markdown",
   "id": "716b068c",
   "metadata": {},
   "source": [
    "Temas:\n",
    "    1. Números\n",
    "    2. Variables\n",
    "    3. Manejo de cadenas\n",
    "    4. Ingresod e datos por el teclado\n",
    "    5. Operadores\n",
    "    "
   ]
  },
  {
   "cell_type": "markdown",
   "id": "24051294",
   "metadata": {},
   "source": [
    "1. Numeros"
   ]
  },
  {
   "cell_type": "code",
   "execution_count": null,
   "id": "3c79c641",
   "metadata": {},
   "outputs": [],
   "source": []
  }
 ],
 "metadata": {
  "kernelspec": {
   "display_name": "Python 3 (ipykernel)",
   "language": "python",
   "name": "python3"
  },
  "language_info": {
   "codemirror_mode": {
    "name": "ipython",
    "version": 3
   },
   "file_extension": ".py",
   "mimetype": "text/x-python",
   "name": "python",
   "nbconvert_exporter": "python",
   "pygments_lexer": "ipython3",
   "version": "3.9.12"
  }
 },
 "nbformat": 4,
 "nbformat_minor": 5
}
