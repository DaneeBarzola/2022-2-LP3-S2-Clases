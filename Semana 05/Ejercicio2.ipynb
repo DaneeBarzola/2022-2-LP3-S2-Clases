{
 "cells": [
  {
   "cell_type": "code",
   "execution_count": 4,
   "id": "8cfcef55",
   "metadata": {},
   "outputs": [
    {
     "name": "stdout",
     "output_type": "stream",
     "text": [
      "Importe de ventas realizadas: 5000\n",
      "Categoria C\n"
     ]
    }
   ],
   "source": [
    "# Problema 02\n",
    "# Dado el importe total de ventas realizadas por un trabajador (Ingreso por teclado,\n",
    "# Categorizar que tipo de empleado es , considerando la siguiente tabla)\n",
    "\n",
    "# Categoría: A ->[1,1000]\n",
    "# Categoría: B ->[1000,2000]\n",
    "# Categoría: C ->[2000,5000]\n",
    "# Categoría: D ->[5000,Más]\n",
    "# Tiempo:10 minutos\n",
    "# Solución\n",
    "ventas = float(input(\"Importe de ventas realizadas: \"))\n",
    "if ventas < 0:\n",
    "    print(\"Datos erroneos\")\n",
    "else:    \n",
    "    if ventas<=1000:\n",
    "        print(\"Categoria A\")\n",
    "    else:\n",
    "        if ventas <=2000:\n",
    "            print(\"Categoria B\")\n",
    "        else:\n",
    "            if ventas <= 5000:\n",
    "                print(\"Categoria C\")\n",
    "            else:\n",
    "                print(\"Categoria D\")\n",
    "                "
   ]
  },
  {
   "cell_type": "code",
   "execution_count": null,
   "id": "67bbb7d1",
   "metadata": {},
   "outputs": [],
   "source": []
  }
 ],
 "metadata": {
  "kernelspec": {
   "display_name": "Python 3 (ipykernel)",
   "language": "python",
   "name": "python3"
  },
  "language_info": {
   "codemirror_mode": {
    "name": "ipython",
    "version": 3
   },
   "file_extension": ".py",
   "mimetype": "text/x-python",
   "name": "python",
   "nbconvert_exporter": "python",
   "pygments_lexer": "ipython3",
   "version": "3.9.12"
  }
 },
 "nbformat": 4,
 "nbformat_minor": 5
}
