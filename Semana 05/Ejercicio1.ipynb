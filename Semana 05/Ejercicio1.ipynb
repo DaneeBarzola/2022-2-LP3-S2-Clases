{
 "cells": [
  {
   "cell_type": "code",
   "execution_count": 3,
   "id": "949967c5",
   "metadata": {},
   "outputs": [
    {
     "name": "stdout",
     "output_type": "stream",
     "text": [
      "Ingrese nombrea buscar: arcos\n",
      "Si está en la lista de LP3\n"
     ]
    }
   ],
   "source": [
    "# Dado una lista[AQUINO, ARCOS, BALDEON, BARZOLA, BELLO, CACHAY, CARRASCO, CIRIACO, DELGADO, GAYOSO, GONZALES, GRANADOS, HUAMAN, LLANOS,LUQUE, PINEDA, PRADO, QUIJAHUAMAN, QUISPE ,RAKAUSKAS, RAMOS, ROJAS, SOTO,ZARATE]\n",
    "# Diseñar un código que muestre si el apellido de un estudiante(Ingreasdo por el teclado) forma parte de la lista\n",
    "# Tiempo:10 minutos\n",
    "# Solución:\n",
    "LP3 = [\"AQUINO\", \"ARCOS\", \"BALDEON\", \"BARZOLA\", \"BELLO\", \"CACHAY\", \"CARRASCO\", \"CIRIACO\", \"DELGADO\", \n",
    "       \"GAYOSO\", \"GONZALES\", \"GRANADOS\", \"HUAMAN\", \"LLANOS\",\"LUQUE\", \"PINEDA\", \"PRADO\", \"QUIJAHUAMAN\",\n",
    "       \"QUISPE\" ,\"RAKAUSKAS\", \"RAMOS\", \"ROJAS\", \"SOTO\", \"ZARATE\"]\n",
    "\n",
    "apellido = input(\"Ingrese nombrea buscar: \")\n",
    "\n",
    "# Como los datos de la lista están en mayúscula, utilizo.upper()\n",
    "\n",
    "if apellido.upper() in LP3:\n",
    "    print(\"Si está en la lista de LP3\")\n",
    "else:\n",
    "    print(\"No está en la lista de LP3\")\n",
    "    "
   ]
  },
  {
   "cell_type": "code",
   "execution_count": null,
   "id": "dc65b4b7",
   "metadata": {},
   "outputs": [],
   "source": []
  }
 ],
 "metadata": {
  "kernelspec": {
   "display_name": "Python 3 (ipykernel)",
   "language": "python",
   "name": "python3"
  },
  "language_info": {
   "codemirror_mode": {
    "name": "ipython",
    "version": 3
   },
   "file_extension": ".py",
   "mimetype": "text/x-python",
   "name": "python",
   "nbconvert_exporter": "python",
   "pygments_lexer": "ipython3",
   "version": "3.9.12"
  }
 },
 "nbformat": 4,
 "nbformat_minor": 5
}
